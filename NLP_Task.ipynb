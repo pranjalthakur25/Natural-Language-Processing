{
  "nbformat": 4,
  "nbformat_minor": 0,
  "metadata": {
    "colab": {
      "provenance": [],
      "mount_file_id": "1yVqMu3glSnjL5WsOy8F93XFX_IAbHDyp",
      "authorship_tag": "ABX9TyO/PK+dpRNOqj3o0z/I2Yj2"
    },
    "kernelspec": {
      "name": "python3",
      "display_name": "Python 3"
    },
    "language_info": {
      "name": "python"
    }
  },
  "cells": [
    {
      "cell_type": "code",
      "execution_count": 2,
      "metadata": {
        "id": "Ql1GY0wjf58K"
      },
      "outputs": [],
      "source": [
        "import xlrd\n",
        "import pandas as pd\n",
        "import numpy as np"
      ]
    },
    {
      "cell_type": "code",
      "source": [
        "df=pd.read_excel(\"/content/drive/MyDrive/Blackcoffer/Copy of Input.xlsx\")"
      ],
      "metadata": {
        "id": "H-SsaWCzh6WM"
      },
      "execution_count": 3,
      "outputs": []
    },
    {
      "cell_type": "code",
      "source": [
        "df"
      ],
      "metadata": {
        "colab": {
          "base_uri": "https://localhost:8080/",
          "height": 423
        },
        "id": "fHiIbglJh9ov",
        "outputId": "bea15a46-61c0-49fb-fcdd-00f407b65562"
      },
      "execution_count": 4,
      "outputs": [
        {
          "output_type": "execute_result",
          "data": {
            "text/plain": [
              "             URL_ID                                                URL\n",
              "0   blackassign0001  https://insights.blackcoffer.com/rising-it-cit...\n",
              "1   blackassign0002  https://insights.blackcoffer.com/rising-it-cit...\n",
              "2   blackassign0003  https://insights.blackcoffer.com/internet-dema...\n",
              "3   blackassign0004  https://insights.blackcoffer.com/rise-of-cyber...\n",
              "4   blackassign0005  https://insights.blackcoffer.com/ott-platform-...\n",
              "..              ...                                                ...\n",
              "95  blackassign0096  https://insights.blackcoffer.com/what-is-the-r...\n",
              "96  blackassign0097  https://insights.blackcoffer.com/impact-of-cov...\n",
              "97  blackassign0098  https://insights.blackcoffer.com/contribution-...\n",
              "98  blackassign0099  https://insights.blackcoffer.com/how-covid-19-...\n",
              "99  blackassign0100  https://insights.blackcoffer.com/how-will-covi...\n",
              "\n",
              "[100 rows x 2 columns]"
            ],
            "text/html": [
              "\n",
              "  <div id=\"df-8b6b92ce-48eb-4570-bcde-810bf44ff1cc\" class=\"colab-df-container\">\n",
              "    <div>\n",
              "<style scoped>\n",
              "    .dataframe tbody tr th:only-of-type {\n",
              "        vertical-align: middle;\n",
              "    }\n",
              "\n",
              "    .dataframe tbody tr th {\n",
              "        vertical-align: top;\n",
              "    }\n",
              "\n",
              "    .dataframe thead th {\n",
              "        text-align: right;\n",
              "    }\n",
              "</style>\n",
              "<table border=\"1\" class=\"dataframe\">\n",
              "  <thead>\n",
              "    <tr style=\"text-align: right;\">\n",
              "      <th></th>\n",
              "      <th>URL_ID</th>\n",
              "      <th>URL</th>\n",
              "    </tr>\n",
              "  </thead>\n",
              "  <tbody>\n",
              "    <tr>\n",
              "      <th>0</th>\n",
              "      <td>blackassign0001</td>\n",
              "      <td>https://insights.blackcoffer.com/rising-it-cit...</td>\n",
              "    </tr>\n",
              "    <tr>\n",
              "      <th>1</th>\n",
              "      <td>blackassign0002</td>\n",
              "      <td>https://insights.blackcoffer.com/rising-it-cit...</td>\n",
              "    </tr>\n",
              "    <tr>\n",
              "      <th>2</th>\n",
              "      <td>blackassign0003</td>\n",
              "      <td>https://insights.blackcoffer.com/internet-dema...</td>\n",
              "    </tr>\n",
              "    <tr>\n",
              "      <th>3</th>\n",
              "      <td>blackassign0004</td>\n",
              "      <td>https://insights.blackcoffer.com/rise-of-cyber...</td>\n",
              "    </tr>\n",
              "    <tr>\n",
              "      <th>4</th>\n",
              "      <td>blackassign0005</td>\n",
              "      <td>https://insights.blackcoffer.com/ott-platform-...</td>\n",
              "    </tr>\n",
              "    <tr>\n",
              "      <th>...</th>\n",
              "      <td>...</td>\n",
              "      <td>...</td>\n",
              "    </tr>\n",
              "    <tr>\n",
              "      <th>95</th>\n",
              "      <td>blackassign0096</td>\n",
              "      <td>https://insights.blackcoffer.com/what-is-the-r...</td>\n",
              "    </tr>\n",
              "    <tr>\n",
              "      <th>96</th>\n",
              "      <td>blackassign0097</td>\n",
              "      <td>https://insights.blackcoffer.com/impact-of-cov...</td>\n",
              "    </tr>\n",
              "    <tr>\n",
              "      <th>97</th>\n",
              "      <td>blackassign0098</td>\n",
              "      <td>https://insights.blackcoffer.com/contribution-...</td>\n",
              "    </tr>\n",
              "    <tr>\n",
              "      <th>98</th>\n",
              "      <td>blackassign0099</td>\n",
              "      <td>https://insights.blackcoffer.com/how-covid-19-...</td>\n",
              "    </tr>\n",
              "    <tr>\n",
              "      <th>99</th>\n",
              "      <td>blackassign0100</td>\n",
              "      <td>https://insights.blackcoffer.com/how-will-covi...</td>\n",
              "    </tr>\n",
              "  </tbody>\n",
              "</table>\n",
              "<p>100 rows × 2 columns</p>\n",
              "</div>\n",
              "    <div class=\"colab-df-buttons\">\n",
              "\n",
              "  <div class=\"colab-df-container\">\n",
              "    <button class=\"colab-df-convert\" onclick=\"convertToInteractive('df-8b6b92ce-48eb-4570-bcde-810bf44ff1cc')\"\n",
              "            title=\"Convert this dataframe to an interactive table.\"\n",
              "            style=\"display:none;\">\n",
              "\n",
              "  <svg xmlns=\"http://www.w3.org/2000/svg\" height=\"24px\" viewBox=\"0 -960 960 960\">\n",
              "    <path d=\"M120-120v-720h720v720H120Zm60-500h600v-160H180v160Zm220 220h160v-160H400v160Zm0 220h160v-160H400v160ZM180-400h160v-160H180v160Zm440 0h160v-160H620v160ZM180-180h160v-160H180v160Zm440 0h160v-160H620v160Z\"/>\n",
              "  </svg>\n",
              "    </button>\n",
              "\n",
              "  <style>\n",
              "    .colab-df-container {\n",
              "      display:flex;\n",
              "      gap: 12px;\n",
              "    }\n",
              "\n",
              "    .colab-df-convert {\n",
              "      background-color: #E8F0FE;\n",
              "      border: none;\n",
              "      border-radius: 50%;\n",
              "      cursor: pointer;\n",
              "      display: none;\n",
              "      fill: #1967D2;\n",
              "      height: 32px;\n",
              "      padding: 0 0 0 0;\n",
              "      width: 32px;\n",
              "    }\n",
              "\n",
              "    .colab-df-convert:hover {\n",
              "      background-color: #E2EBFA;\n",
              "      box-shadow: 0px 1px 2px rgba(60, 64, 67, 0.3), 0px 1px 3px 1px rgba(60, 64, 67, 0.15);\n",
              "      fill: #174EA6;\n",
              "    }\n",
              "\n",
              "    .colab-df-buttons div {\n",
              "      margin-bottom: 4px;\n",
              "    }\n",
              "\n",
              "    [theme=dark] .colab-df-convert {\n",
              "      background-color: #3B4455;\n",
              "      fill: #D2E3FC;\n",
              "    }\n",
              "\n",
              "    [theme=dark] .colab-df-convert:hover {\n",
              "      background-color: #434B5C;\n",
              "      box-shadow: 0px 1px 3px 1px rgba(0, 0, 0, 0.15);\n",
              "      filter: drop-shadow(0px 1px 2px rgba(0, 0, 0, 0.3));\n",
              "      fill: #FFFFFF;\n",
              "    }\n",
              "  </style>\n",
              "\n",
              "    <script>\n",
              "      const buttonEl =\n",
              "        document.querySelector('#df-8b6b92ce-48eb-4570-bcde-810bf44ff1cc button.colab-df-convert');\n",
              "      buttonEl.style.display =\n",
              "        google.colab.kernel.accessAllowed ? 'block' : 'none';\n",
              "\n",
              "      async function convertToInteractive(key) {\n",
              "        const element = document.querySelector('#df-8b6b92ce-48eb-4570-bcde-810bf44ff1cc');\n",
              "        const dataTable =\n",
              "          await google.colab.kernel.invokeFunction('convertToInteractive',\n",
              "                                                    [key], {});\n",
              "        if (!dataTable) return;\n",
              "\n",
              "        const docLinkHtml = 'Like what you see? Visit the ' +\n",
              "          '<a target=\"_blank\" href=https://colab.research.google.com/notebooks/data_table.ipynb>data table notebook</a>'\n",
              "          + ' to learn more about interactive tables.';\n",
              "        element.innerHTML = '';\n",
              "        dataTable['output_type'] = 'display_data';\n",
              "        await google.colab.output.renderOutput(dataTable, element);\n",
              "        const docLink = document.createElement('div');\n",
              "        docLink.innerHTML = docLinkHtml;\n",
              "        element.appendChild(docLink);\n",
              "      }\n",
              "    </script>\n",
              "  </div>\n",
              "\n",
              "\n",
              "<div id=\"df-4d061583-4aa9-43f0-aaa5-1c52b3cb97cb\">\n",
              "  <button class=\"colab-df-quickchart\" onclick=\"quickchart('df-4d061583-4aa9-43f0-aaa5-1c52b3cb97cb')\"\n",
              "            title=\"Suggest charts\"\n",
              "            style=\"display:none;\">\n",
              "\n",
              "<svg xmlns=\"http://www.w3.org/2000/svg\" height=\"24px\"viewBox=\"0 0 24 24\"\n",
              "     width=\"24px\">\n",
              "    <g>\n",
              "        <path d=\"M19 3H5c-1.1 0-2 .9-2 2v14c0 1.1.9 2 2 2h14c1.1 0 2-.9 2-2V5c0-1.1-.9-2-2-2zM9 17H7v-7h2v7zm4 0h-2V7h2v10zm4 0h-2v-4h2v4z\"/>\n",
              "    </g>\n",
              "</svg>\n",
              "  </button>\n",
              "\n",
              "<style>\n",
              "  .colab-df-quickchart {\n",
              "      --bg-color: #E8F0FE;\n",
              "      --fill-color: #1967D2;\n",
              "      --hover-bg-color: #E2EBFA;\n",
              "      --hover-fill-color: #174EA6;\n",
              "      --disabled-fill-color: #AAA;\n",
              "      --disabled-bg-color: #DDD;\n",
              "  }\n",
              "\n",
              "  [theme=dark] .colab-df-quickchart {\n",
              "      --bg-color: #3B4455;\n",
              "      --fill-color: #D2E3FC;\n",
              "      --hover-bg-color: #434B5C;\n",
              "      --hover-fill-color: #FFFFFF;\n",
              "      --disabled-bg-color: #3B4455;\n",
              "      --disabled-fill-color: #666;\n",
              "  }\n",
              "\n",
              "  .colab-df-quickchart {\n",
              "    background-color: var(--bg-color);\n",
              "    border: none;\n",
              "    border-radius: 50%;\n",
              "    cursor: pointer;\n",
              "    display: none;\n",
              "    fill: var(--fill-color);\n",
              "    height: 32px;\n",
              "    padding: 0;\n",
              "    width: 32px;\n",
              "  }\n",
              "\n",
              "  .colab-df-quickchart:hover {\n",
              "    background-color: var(--hover-bg-color);\n",
              "    box-shadow: 0 1px 2px rgba(60, 64, 67, 0.3), 0 1px 3px 1px rgba(60, 64, 67, 0.15);\n",
              "    fill: var(--button-hover-fill-color);\n",
              "  }\n",
              "\n",
              "  .colab-df-quickchart-complete:disabled,\n",
              "  .colab-df-quickchart-complete:disabled:hover {\n",
              "    background-color: var(--disabled-bg-color);\n",
              "    fill: var(--disabled-fill-color);\n",
              "    box-shadow: none;\n",
              "  }\n",
              "\n",
              "  .colab-df-spinner {\n",
              "    border: 2px solid var(--fill-color);\n",
              "    border-color: transparent;\n",
              "    border-bottom-color: var(--fill-color);\n",
              "    animation:\n",
              "      spin 1s steps(1) infinite;\n",
              "  }\n",
              "\n",
              "  @keyframes spin {\n",
              "    0% {\n",
              "      border-color: transparent;\n",
              "      border-bottom-color: var(--fill-color);\n",
              "      border-left-color: var(--fill-color);\n",
              "    }\n",
              "    20% {\n",
              "      border-color: transparent;\n",
              "      border-left-color: var(--fill-color);\n",
              "      border-top-color: var(--fill-color);\n",
              "    }\n",
              "    30% {\n",
              "      border-color: transparent;\n",
              "      border-left-color: var(--fill-color);\n",
              "      border-top-color: var(--fill-color);\n",
              "      border-right-color: var(--fill-color);\n",
              "    }\n",
              "    40% {\n",
              "      border-color: transparent;\n",
              "      border-right-color: var(--fill-color);\n",
              "      border-top-color: var(--fill-color);\n",
              "    }\n",
              "    60% {\n",
              "      border-color: transparent;\n",
              "      border-right-color: var(--fill-color);\n",
              "    }\n",
              "    80% {\n",
              "      border-color: transparent;\n",
              "      border-right-color: var(--fill-color);\n",
              "      border-bottom-color: var(--fill-color);\n",
              "    }\n",
              "    90% {\n",
              "      border-color: transparent;\n",
              "      border-bottom-color: var(--fill-color);\n",
              "    }\n",
              "  }\n",
              "</style>\n",
              "\n",
              "  <script>\n",
              "    async function quickchart(key) {\n",
              "      const quickchartButtonEl =\n",
              "        document.querySelector('#' + key + ' button');\n",
              "      quickchartButtonEl.disabled = true;  // To prevent multiple clicks.\n",
              "      quickchartButtonEl.classList.add('colab-df-spinner');\n",
              "      try {\n",
              "        const charts = await google.colab.kernel.invokeFunction(\n",
              "            'suggestCharts', [key], {});\n",
              "      } catch (error) {\n",
              "        console.error('Error during call to suggestCharts:', error);\n",
              "      }\n",
              "      quickchartButtonEl.classList.remove('colab-df-spinner');\n",
              "      quickchartButtonEl.classList.add('colab-df-quickchart-complete');\n",
              "    }\n",
              "    (() => {\n",
              "      let quickchartButtonEl =\n",
              "        document.querySelector('#df-4d061583-4aa9-43f0-aaa5-1c52b3cb97cb button');\n",
              "      quickchartButtonEl.style.display =\n",
              "        google.colab.kernel.accessAllowed ? 'block' : 'none';\n",
              "    })();\n",
              "  </script>\n",
              "</div>\n",
              "    </div>\n",
              "  </div>\n"
            ],
            "application/vnd.google.colaboratory.intrinsic+json": {
              "type": "dataframe",
              "variable_name": "df",
              "summary": "{\n  \"name\": \"df\",\n  \"rows\": 100,\n  \"fields\": [\n    {\n      \"column\": \"URL_ID\",\n      \"properties\": {\n        \"dtype\": \"string\",\n        \"num_unique_values\": 100,\n        \"samples\": [\n          \"blackassign0084\",\n          \"blackassign0054\",\n          \"blackassign0071\"\n        ],\n        \"semantic_type\": \"\",\n        \"description\": \"\"\n      }\n    },\n    {\n      \"column\": \"URL\",\n      \"properties\": {\n        \"dtype\": \"string\",\n        \"num_unique_values\": 100,\n        \"samples\": [\n          \"https://insights.blackcoffer.com/how-voice-search-makes-your-business-a-successful-business/\",\n          \"https://insights.blackcoffer.com/how-google-fit-measure-heart-and-respiratory-rates-using-a-phone/\",\n          \"https://insights.blackcoffer.com/how-to-overcome-your-fear-of-making-mistakes-2/\"\n        ],\n        \"semantic_type\": \"\",\n        \"description\": \"\"\n      }\n    }\n  ]\n}"
            }
          },
          "metadata": {},
          "execution_count": 4
        }
      ]
    },
    {
      "cell_type": "code",
      "source": [
        "from newspaper import Article, ArticleException\n",
        "\n",
        "def extract_text_from_url(url, index):\n",
        "    try:\n",
        "        article = Article(url)\n",
        "        article.download()\n",
        "        article.parse()\n",
        "        return article.text\n",
        "    except ArticleException as e:\n",
        "        print(f\"Failed to extract text from URL at index{index}: {url}. Error: {e}\")\n",
        "        return None"
      ],
      "metadata": {
        "id": "Ug1o4Zb4h-fw"
      },
      "execution_count": 70,
      "outputs": []
    },
    {
      "cell_type": "code",
      "source": [
        "df.isnull().sum()"
      ],
      "metadata": {
        "colab": {
          "base_uri": "https://localhost:8080/"
        },
        "id": "5aWBuTKeiys3",
        "outputId": "7b14e72f-74e8-4986-92f8-39ac0e26d14a"
      },
      "execution_count": 7,
      "outputs": [
        {
          "output_type": "execute_result",
          "data": {
            "text/plain": [
              "URL_ID    0\n",
              "URL       0\n",
              "dtype: int64"
            ]
          },
          "metadata": {},
          "execution_count": 7
        }
      ]
    },
    {
      "cell_type": "code",
      "source": [
        "urls=df['URL']"
      ],
      "metadata": {
        "id": "Xc0_NYTVgsd5"
      },
      "execution_count": 50,
      "outputs": []
    },
    {
      "cell_type": "code",
      "source": [
        "def get_failed_indices(url):\n",
        "    failed_indices = []\n",
        "    for index, url in enumerate(urls):\n",
        "        text = extract_text_from_url(url, index)\n",
        "        if text is None:\n",
        "            failed_indices.append(index)\n",
        "    return failed_indices"
      ],
      "metadata": {
        "id": "SGwuJ71LhkFM"
      },
      "execution_count": 77,
      "outputs": []
    },
    {
      "cell_type": "code",
      "source": [
        "failed_urls=get_failed_indices(urls)"
      ],
      "metadata": {
        "colab": {
          "base_uri": "https://localhost:8080/"
        },
        "id": "UXBRNmAukdVr",
        "outputId": "930cca2c-02d9-45fc-e9f7-4c8a6f1d5bd9"
      },
      "execution_count": 72,
      "outputs": [
        {
          "output_type": "stream",
          "name": "stdout",
          "text": [
            "Failed to extract text from URL at index35: https://insights.blackcoffer.com/how-neural-networks-can-be-applied-in-various-areas-in-the-future/. Error: Article `download()` failed with 404 Client Error: Not Found for url: https://insights.blackcoffer.com/how-neural-networks-can-be-applied-in-various-areas-in-the-future/ on URL https://insights.blackcoffer.com/how-neural-networks-can-be-applied-in-various-areas-in-the-future/\n",
            "Failed to extract text from URL at index48: https://insights.blackcoffer.com/covid-19-environmental-impact-for-the-future/. Error: Article `download()` failed with 404 Client Error: Not Found for url: https://insights.blackcoffer.com/covid-19-environmental-impact-for-the-future/ on URL https://insights.blackcoffer.com/covid-19-environmental-impact-for-the-future/\n"
          ]
        }
      ]
    },
    {
      "cell_type": "code",
      "source": [
        "print(failed_urls)"
      ],
      "metadata": {
        "colab": {
          "base_uri": "https://localhost:8080/"
        },
        "id": "FEfGImhDlFpF",
        "outputId": "f3f3fd15-6bb5-49f6-8846-609f3b1f66e0"
      },
      "execution_count": 73,
      "outputs": [
        {
          "output_type": "stream",
          "name": "stdout",
          "text": [
            "[35, 48]\n"
          ]
        }
      ]
    },
    {
      "cell_type": "code",
      "source": [
        "df_cleaned = df.drop(df.index[failed_urls])"
      ],
      "metadata": {
        "id": "w5NWKYhkkg4r"
      },
      "execution_count": 74,
      "outputs": []
    },
    {
      "cell_type": "code",
      "source": [
        "df_cleaned.shape"
      ],
      "metadata": {
        "colab": {
          "base_uri": "https://localhost:8080/"
        },
        "id": "qV4wNnPRmL8l",
        "outputId": "4c1711ba-081b-4c2c-fe4a-c62f15e1a0b9"
      },
      "execution_count": 75,
      "outputs": [
        {
          "output_type": "execute_result",
          "data": {
            "text/plain": [
              "(98, 2)"
            ]
          },
          "metadata": {},
          "execution_count": 75
        }
      ]
    },
    {
      "cell_type": "code",
      "source": [
        "working_urls=df_cleaned['URL']"
      ],
      "metadata": {
        "id": "OKhryJQ8nSeM"
      },
      "execution_count": 78,
      "outputs": []
    },
    {
      "cell_type": "markdown",
      "source": [
        "EXTRACTING TEXT"
      ],
      "metadata": {
        "id": "gx9E_FY_oiFc"
      }
    },
    {
      "cell_type": "code",
      "source": [
        "for index, url in enumerate(working_urls):\n",
        "    text = extract_text_from_url(url, index)"
      ],
      "metadata": {
        "id": "tPrCUDjUnaiS"
      },
      "execution_count": 80,
      "outputs": []
    },
    {
      "cell_type": "code",
      "source": [
        "def extract_texts(url):\n",
        "    article = Article(url)\n",
        "    article.download()\n",
        "    article.parse()\n",
        "    return article.text\n",
        "texts = []\n",
        "for url in df_cleaned['URL']:\n",
        "    text = extract_texts(url)\n",
        "    texts.append(text)"
      ],
      "metadata": {
        "id": "VU_J49MRpfxt"
      },
      "execution_count": 83,
      "outputs": []
    },
    {
      "cell_type": "code",
      "source": [
        "texts[5]"
      ],
      "metadata": {
        "colab": {
          "base_uri": "https://localhost:8080/",
          "height": 109
        },
        "id": "aUjRwG_sliIi",
        "outputId": "f4461d1d-d693-4433-9464-6130761f5eb3"
      },
      "execution_count": 84,
      "outputs": [
        {
          "output_type": "execute_result",
          "data": {
            "text/plain": [
              "'“Entertainment is giving people what they want.” – Howard Hawks\\n\\nEntertainment, in its essence, is the art of captivating and delighting people, whisking them away from the mundane and into a world of imagination and emotion. It comes in various forms, from the tales told around ancient campfires to the dazzling spectacles of modern cinema. Traditionally, we relied on television, radio, and theatres to satiate our thirst for entertainment. However, a new dawn has emerged with the advent of Over-The-Top (OTT) platforms, which deliver a wide array of digital content directly to consumers over the internet, transforming the way we consume content. These platforms, accessible at the tap of a screen, are redefining the entertainment landscape, and their impact is both revolutionary and intriguing. As we project into the future, it is evident that the impact of OTT platforms on the entertainment industry will be profound by 2040.\\n\\nThis essay explores the factors contributing to the rise of OTT platforms, their current significance, and the potential implications they may have on content creation, distribution, consumption, and the traditional media landscape.\\n\\nThe Rise of OTT Platforms: A Historical Context\\n\\nThe landscape of entertainment underwent a remarkable transformation with the rise of Over-The-Top (OTT) platforms, a shift that can be traced back to the early 2000s. This period marked the inception of a new era in content consumption, led by pioneering companies like Netflix, which dared to venture into uncharted territories of streaming content over the internet.\\n\\nIn their initial stages, these OTT platforms focused on a rather modest goal – providing a digital reservoir of older movies and television shows. This innovative approach offered a departure from conventional entertainment delivery methods, introducing the concept of on-demand viewing. No longer were audiences tethered to rigid schedules dictated by traditional television broadcasts or cinema showtimes. Instead, viewers could now delve into a treasure trove of content at their convenience, ushering in a new era of viewer empowerment.\\n\\nThe convenience of on-demand viewing was the first ripple in the pond, setting the stage for an even more profound transformation. As internet infrastructure and connectivity improved, a fertile ground was created for OTT platforms to flourish. With the steady march of technology, consumer preferences began to shift, demanding not only convenience but also diversity and originality in content offerings.\\n\\nRecognizing this demand, OTT platforms embarked on a journey to reinvent themselves. They swiftly evolved from being mere repositories of nostalgic classics to becoming creators and distributors of original programming. This strategic pivot marked a turning point, shaking the very foundations of traditional broadcast and cable TV models.\\n\\nOriginal programming injected fresh life into the realm of entertainment, captivating audiences with narratives that were previously unheard of. As OTT platforms unleashed their creative prowess, they embraced storytelling in all its diverse forms – from gripping dramas and thrilling mysteries to heartwarming comedies and eye-opening documentaries. This creative renaissance shattered the monopoly that traditional media had held for decades, offering a level playing field for both established and emerging storytellers.\\n\\nThe expansion of OTT offerings wasn’t merely a quantitative growth; it represented a qualitative leap. Audiences were no longer limited to a predetermined menu of content; they were handed the reins to an expansive universe where choice and personalization reigned supreme. This revolution ignited a ripple effect across the entertainment industry, influencing content creators, and production studios, and even influencing the very way stories were conceived and told.\\n\\nFactors Driving the Rise of OTT Platforms\\n\\nFactors Driving the Rise of OTT Platforms\\n\\n1. Convenience and Personalization: OTT platforms offer unparalleled convenience and personalization. Viewers can access content whenever and wherever they want, catering to their schedules and preferences. The ability to create personalized profiles, curated recommendations, and watchlists has created a more tailored and engaging viewing experience.\\n\\n2. Content Variety and Original Programming: OTT platforms have invested heavily in producing high-quality original content, ranging from TV series and movies to documentaries and stand-up specials. This commitment to diverse and compelling content has attracted a broader audience and positioned OTT platforms as formidable competitors in the entertainment industry.\\n\\n3. Global Reach and Accessibility: The global accessibility of OTT platforms has broken down geographical barriers, enabling content creators to reach audiences worldwide without the limitations of traditional distribution channels. This has fostered cross-cultural exchange and enriched content diversity.\\n\\n4. Technological Advancements: Advancements in streaming technology, including improved video compression algorithms and faster internet speeds, have facilitated seamless content delivery. This has reduced buffering issues and enhanced the overall user experience, further incentivizing consumers to adopt OTT platforms.\\n\\n5. Disruption of Traditional Models: OTT platforms have disrupted traditional media models by offering subscription-based and ad-supported options that challenge the conventional pay-TV model. This disruption has prompted traditional media companies to adapt and create their streaming services, intensifying competition within the industry.\\n\\nThe Current Significance of OTT Platforms\\n\\nAs of the present day, OTT platforms have already significantly transformed the entertainment landscape. Major players like Netflix, Amazon Prime Video, Disney+, and Hulu have amassed massive subscriber bases, challenging the dominance of cable and broadcast television. The ability of these platforms to produce critically acclaimed and culturally impactful original content, such as Stranger Things, The Mandalorian” and “The Crown” has further solidified their place in popular culture.\\n\\nOTT platforms have also revolutionized content consumption habits. Binge-watching, or consuming multiple episodes of a TV series in rapid succession, has become a cultural phenomenon enabled by the release of entire seasons at once. This shift in viewing behaviour has influenced storytelling techniques and narrative structures, as content creators aim to engage audiences over extended periods.\\n\\nImpact on Content Creation and Distribution\\n\\nLooking ahead to 2040, the impact of OTT platforms on content creation and distribution will likely be even more pronounced. The ability of these platforms to gather vast amounts of user data and insights will enable content creators to make more informed decisions about the type of content that resonates with audiences. This data-driven approach may lead to more targeted and innovative storytelling, resulting in a diverse range of content that caters to various tastes and preferences.\\n\\nAdditionally, the direct-to-consumer model of OTT platforms eliminates the need for traditional distribution channels, reducing intermediaries and production costs. This may empower independent filmmakers and creators to showcase their work to a global audience, democratizing the content creation process and fostering creativity and diversity.\\n\\nHowever, the dominance of OTT platforms could also pose challenges to content diversity. While these platforms have expanded the range of stories being told, there is a risk that certain niche genres or perspectives may be overshadowed by the pursuit of mass appeal. Content algorithms that prioritize popular genres could limit exposure to lesser-known content, potentially hindering the discovery of unique voices.\\n\\nChanging Consumer Behavior and Expectations\\n\\nThe rise of OTT platforms has fundamentally shifted consumer behaviour and expectations, and this trend is likely to continue. The demand for instant gratification, personalized recommendations, and a seamless viewing experience has set a high standard for the industry. By 2040, we can expect consumers to expect even more immersive and interactive experiences, driven by advancements in virtual reality (VR) and augmented reality (AR) technologies.\\n\\nFurthermore, the concept of “cord-cutting” – the act of cancelling traditional cable or satellite TV subscriptions in favour of OTT platforms – is projected to become the norm by 2040. As more households transition to streaming services, the traditional TV ecosystem could undergo a profound transformation, leading to changes in advertising models, revenue streams, and the overall content landscape.\\n\\nDiversified and Tailored Content Creation:\\n\\nBy 2040, OTT platforms will have catalyzed a revolution in content creation. The democratization of production tools and distribution channels will empower a diverse range of creators to showcase their talents on a global stage. The boundaries of storytelling will be pushed, giving rise to narratives that reflect a spectrum of cultures, perspectives, and experiences. Personalization algorithms will refine content recommendations, ensuring that each individual’s entertainment journey is a unique and engaging one.\\n\\nThe Erosion of Traditional Broadcast and Cable TV:\\n\\nThe traditional broadcast and cable TV models, once the stalwarts of entertainment, will be shadows of their former selves. The dominance of OTT platforms will relegate scheduled programming to nostalgia, as audiences demand the freedom to curate their viewing schedules. Live streaming and real-time interaction will bridge the gap between virtual and reality, providing immersive experiences that redefine the concept of “appointment viewing.”\\n\\nGlobalization of Content:\\n\\nThe boundaries of geography will blur as OTT platforms transcend borders. By 2040, audiences around the world will effortlessly access content from diverse cultures, languages, and genres. The exchange of stories and ideas will foster cross-cultural understanding and appreciation, contributing to a more interconnected global society.\\n\\nInteractive and Immersive Experiences:\\n\\nThe integration of emerging technologies, such as virtual reality (VR) and augmented reality (AR), will elevate entertainment to new heights. Viewers will step into the worlds of their favourite shows and movies, becoming active participants in the storytelling process. Immersive narratives and interactive elements will blur the line between fiction and reality, engaging audiences in ways never before imagined.\\n\\nMonetization and Industry Dynamics:\\n\\nThe monetization landscape will undergo a profound transformation. Advertising models will evolve as targeted, non-intrusive ads replace traditional commercial breaks. Subscription-based and pay-per-view models will flourish, providing viewers with a plethora of options tailored to their preferences. The traditional “box office” concept will extend beyond theatres, as online premieres and exclusive releases become the norm.\\n\\nChallenges and Considerations\\n\\nWhile the rise of OTT platforms presents numerous opportunities, it also raises important considerations and challenges for the entertainment industry. The proliferation of streaming services could lead to subscription fatigue, where consumers are overwhelmed by the sheer number of available platforms. This may drive some users to piracy or result in a decline in overall revenue for the industry.\\n\\nAdditionally, issues related to data privacy and content moderation will continue to be significant concerns. The collection of user data to improve recommendations and advertising targeting raises questions about the ethical use of personal information. Furthermore, the open nature of online platforms can make it difficult to regulate inappropriate or harmful content, requiring industry stakeholders and policymakers to collaborate on effective solutions.\\n\\nConclusion\\n\\nIn conclusion, the rise of OTT platforms has already made a substantial impact on the entertainment industry, and their influence is likely to be even more profound by 2040. The convenience, personalization, and global accessibility of these platforms have transformed content consumption habits and disrupted traditional media models. As we project into the future, we can anticipate further advancements in technology, changes in content creation and distribution, and evolving consumer behaviour and expectations.\\n\\nWhile the challenges posed by the rise of OTT platforms should not be overlooked, their potential to democratize content creation, offer diverse narratives, and provide innovative viewing experiences is undeniable. Industry stakeholders, content creators, and policymakers must collaborate to navigate these challenges and harness the full potential of OTT platforms for the benefit of both creators and consumers in the evolving entertainment landscape of 2040.\\n\\nBlackcoffer Insights 47: Mukti, Sri Venkateswara College, University of Delhi'"
            ],
            "application/vnd.google.colaboratory.intrinsic+json": {
              "type": "string"
            }
          },
          "metadata": {},
          "execution_count": 84
        }
      ]
    },
    {
      "cell_type": "code",
      "source": [
        "len(texts)"
      ],
      "metadata": {
        "colab": {
          "base_uri": "https://localhost:8080/"
        },
        "id": "MCNCltd5wlsV",
        "outputId": "c459af54-ea5c-4acd-df99-bb7e29d7a759"
      },
      "execution_count": 92,
      "outputs": [
        {
          "output_type": "execute_result",
          "data": {
            "text/plain": [
              "98"
            ]
          },
          "metadata": {},
          "execution_count": 92
        }
      ]
    },
    {
      "cell_type": "code",
      "source": [
        "import nltk\n",
        "from nltk.tokenize import word_tokenize\n",
        "from nltk.corpus import stopwords"
      ],
      "metadata": {
        "id": "Uyu2CKy4ljSq"
      },
      "execution_count": 10,
      "outputs": []
    },
    {
      "cell_type": "code",
      "source": [
        "nltk.download('punkt')\n",
        "nltk.download('stopwords')"
      ],
      "metadata": {
        "colab": {
          "base_uri": "https://localhost:8080/"
        },
        "id": "OBFUxmk4l33a",
        "outputId": "0b3f343d-1421-4917-91b9-c49ed08f0709"
      },
      "execution_count": 11,
      "outputs": [
        {
          "output_type": "stream",
          "name": "stderr",
          "text": [
            "[nltk_data] Downloading package punkt to /root/nltk_data...\n",
            "[nltk_data]   Unzipping tokenizers/punkt.zip.\n",
            "[nltk_data] Downloading package stopwords to /root/nltk_data...\n",
            "[nltk_data]   Unzipping corpora/stopwords.zip.\n"
          ]
        },
        {
          "output_type": "execute_result",
          "data": {
            "text/plain": [
              "True"
            ]
          },
          "metadata": {},
          "execution_count": 11
        }
      ]
    },
    {
      "cell_type": "code",
      "source": [
        "def process_data(text):\n",
        "  tokens=word_tokenize(text)\n",
        "  stop_words=set(stopwords.words('english'))\n",
        "  tokens=[token.lower() for token in tokens if token.isalnum() and token.lower() not in stop_words]\n",
        "  return tokens"
      ],
      "metadata": {
        "id": "tYzZfkUxl-hP"
      },
      "execution_count": 32,
      "outputs": []
    },
    {
      "cell_type": "code",
      "source": [
        "import requests"
      ],
      "metadata": {
        "id": "qtLSAlXOU2WV"
      },
      "execution_count": 18,
      "outputs": []
    },
    {
      "cell_type": "code",
      "source": [
        "def read_text_from_google_drive_link(gdrive_link):\n",
        "    # Extract file ID from Google Drive link\n",
        "    file_id = gdrive_link.split('/')[-2]\n",
        "\n",
        "    # Download file content from Google Drive\n",
        "    response = requests.get(f\"https://drive.google.com/uc?id=1seAj8G42SmfgUUx8lqVDJofm4Tuh2TOT\")\n",
        "\n",
        "    # Check if download was successful\n",
        "    if response.status_code == 200:\n",
        "        # Read the content of the text file\n",
        "        content = response.text\n",
        "\n",
        "        # Split the content into lines (assuming each line is a paragraph)\n",
        "        paragraphs = content.split('\\n')\n",
        "        return paragraphs\n",
        "    else:\n",
        "        print(\"Failed to download file from Google Drive.\")\n",
        "        return None\n"
      ],
      "metadata": {
        "id": "Rl2ZcmPYK-xl"
      },
      "execution_count": 95,
      "outputs": []
    },
    {
      "cell_type": "code",
      "source": [
        "gdrive_link = 'https://drive.google.com/file/d/1seAj8G42SmfgUUx8lqVDJofm4Tuh2TOT/view?usp=drive_link'\n",
        "positive_dict = read_text_from_google_drive_link(gdrive_link)"
      ],
      "metadata": {
        "id": "pT4RPDWxVHUG"
      },
      "execution_count": 96,
      "outputs": []
    },
    {
      "cell_type": "code",
      "source": [
        "print(len(positive_dict))"
      ],
      "metadata": {
        "colab": {
          "base_uri": "https://localhost:8080/"
        },
        "id": "lW4EowYxVd3s",
        "outputId": "c66f6404-3f67-42f9-e615-3c9330b48fd3"
      },
      "execution_count": 36,
      "outputs": [
        {
          "output_type": "stream",
          "name": "stdout",
          "text": [
            "2007\n"
          ]
        }
      ]
    },
    {
      "cell_type": "code",
      "source": [
        "positive_dict=set(positive_dict)"
      ],
      "metadata": {
        "id": "EYiTOZ96ZAgs"
      },
      "execution_count": 97,
      "outputs": []
    },
    {
      "cell_type": "code",
      "source": [
        "def calculate_positive_score(text, positive_dict):\n",
        "  tokens=process_data(text)\n",
        "  positive_score=0\n",
        "  for token in tokens:\n",
        "    if token in positive_dict:\n",
        "      positive_score+=1\n",
        "  return positive_score"
      ],
      "metadata": {
        "id": "S5qoZAdOWj8q"
      },
      "execution_count": 101,
      "outputs": []
    },
    {
      "cell_type": "code",
      "source": [
        "texts[0]"
      ],
      "metadata": {
        "colab": {
          "base_uri": "https://localhost:8080/",
          "height": 109
        },
        "id": "s2KfKAGlxfAk",
        "outputId": "4f5a2eb1-83ad-4902-b965-a574b780e671"
      },
      "execution_count": 100,
      "outputs": [
        {
          "output_type": "execute_result",
          "data": {
            "text/plain": [
              "'We have seen a huge development and dependence of people on technology in recent years. We have also seen the development of AI and ChatGPT in recent years. So it is a normal thing that we will become fully dependent on technology by 2040. Information technology will be a major power for all the developing nations. As a member of a developing nation, India is rapidly growing its IT base. It has also grown some IT cities which will be the major control centres for Information technology by 2040.\\n\\nRising IT cities\\n\\nNoida:- Noida in Uttar Pradesh near New Delhi is an emerging IT sector now. Many large companies like Google, Microsoft, IBM, Infosys and others have set up their companies here. Noida has a market base of billions of dollars and is doing a great job of boosting the national economy. The establishment of so many software companies has made Noida an information technology hub. Gurgaon:- Gurgaon in Haryana is also an emerging IT hub. Many large companies like Google, Microsoft, IBM, Infosys and others have set up their companies here. Gurgaon has a market base of billions of dollars and is doing a great job of boosting the national economy. Bengaluru:- Bengaluru is called as the IT hub of India. It is also a smart city. Many large companies like Google, Microsoft, IBM, Infosys and others have set up their companies here. Bengaluru has a market base of billions of dollars and is doing a great job of boosting the national economy.\\n\\nKolkata:- Kolkata in West Bengal is an emerging major IT hub. The new Kolkata i.e. Saltlake Sector 5, New town, Rajarhat area of Kolkata is a major IT hub. The government is giving the software companies land at almost free of cost to set up the companies there. Many large companies like Google, Microsoft, IBM, Infosys and others have set up their companies here. Kolkata has a market base of billions of dollars and is doing a great job of boosting the national economy.\\n\\nImpact on Economy\\n\\nThere is a huge impact of the rising IT cities on our economy. Some of the effects are-\\n\\nDemand:- The rising IT cities will greatly help to boost our economy. These will create a huge demand for raw materials. The products when ready will be a huge demand for the people too. Supply:- – Supply means the fulfilment of demand. In a large and highly populous country like India, there is always a demand for finished products. If more IT cities do not develop, the companies cannot fulfil the needs and desires of the people of a populous country like India. As IT cities develop, more IT companies will come, which will supply more and more finished IT products to our people. Market: A market is a place where different economic agents like buyers and sellers interact with one another. In a populous country like India, there is a huge market. As IT cities will grow, more and more IT companies will come from across the world and more will the competition in the market increase. This will help consumers as they will get more and more differentiated products and the market will also run smoothly. A competitive market is always good and healthy. We can safely assume that our oligopoly market will surely tend to reach a perfectly competitive market by the year 2040. Revenue:- As the market increases, more revenue will be generated. Now at present, the IT revenue of India is 245 million dollars, 19 million dollars more than the financial year 2022. If IT cities grow, then more companies will invest which leads to an increase in the IT market which in turn generates more revenue in India. We can expect that the IT revenue of India will cross or nearly tend to reach 10 billion dollars by 2040.\\n\\nImpact on Environment\\n\\nThe rising IT cities will create a huge impact on the environment, the maximum of which will be harmful effects. The impact of rising IT cities on the environment is-\\n\\nDeforestation:- There will be cutting of trees in huge numbers to make the building of the IT companies which will cause great harm to the environment. The cutting of trees on a large scale will also cause mass degradation of forests. More carbon footprint:- The IT companies will generate more carbon footprint in the atmosphere. South Asian countries including India are known for their lower carbon footprint. But if the IT sector grows this way then we will also be at the same pace of generation of carbon footprint by 2040. Death of birds:- The cell phone and mobile towers by the telecom companies caused the death of birds which caused a great imbalance in the ecosystem. The number of sparrows has been reduced due to this phenomenon. If this goes on we can see the extinction of many bird species by 2040.\\n\\nImpact on infrastructure\\n\\nThere are many contributions of the IT cities on infrastructure. They are-\\n\\nTransportation:- The rising IT cities need an excellent transport system for the supply of raw materials and delivery of the finished products into the market. So the transportation system develops in that area. So we have an excellent transport system by 2040. Need for a public transport system:- There is a need for a public transport system in the IT cities. As the IT cities are a source of employment and a huge population reside in these areas, there is an adequate need for public transport systems like buses, taxis etc. We hope that it will be improved by 2040. Water supply:- As a huge number of people reside in the IT cities there is a need for adequate water supply to fulfil the needs of people as well as for industries. This will help us to find many new methods of water supply and conservation by 2040. Electricity:- Electric supply is the lifeline of the sector. Without an electric supply, no machines will run and not even the IT cities will flourish. If the IT cities flourish this way, we going to have an excellent electric supply by 2040. Healthcare:- As a large number of people reside in IT cities, there is a need for proper health infrastructure and healthcare facilities for the people. So with the growth of IT cities, our healthcare system will also improve by 2040. Education:- Education is the primary key or core of any nation. There must be proper education and training centres in those IT cities to fulfil the people’s demands. So with the growth of IT cities, the education system will also develop by 2040. Our education is also going to be skill-oriented.\\n\\nImpact on city life\\n\\nWith the growth of IT cities, more people will get jobs and will earn more. So the purchasing power of the people will increase. People will lead a better lifestyle. They will buy things of good brand value. The tastes and preferences of people will also change. The human development index is going to increase. People will buy good quality food and good quality cars. So the food, automobile and many other industries are going to increase. So there will be a huge impact on city life by 2040.\\n\\nBlackcoffer Insights 47: Arka Mukhopadhyay, West Bengal University Of Animal And Fishery Sciences'"
            ],
            "application/vnd.google.colaboratory.intrinsic+json": {
              "type": "string"
            }
          },
          "metadata": {},
          "execution_count": 100
        }
      ]
    },
    {
      "cell_type": "code",
      "source": [
        "score=calculate_positive_score(texts[0],positive_dict)\n",
        "print(score)"
      ],
      "metadata": {
        "colab": {
          "base_uri": "https://localhost:8080/"
        },
        "id": "GGtkln8WXDEY",
        "outputId": "d093fa01-a7ad-441f-ec5b-5995874da9d2"
      },
      "execution_count": 102,
      "outputs": [
        {
          "output_type": "stream",
          "name": "stdout",
          "text": [
            "44\n"
          ]
        }
      ]
    },
    {
      "cell_type": "code",
      "source": [
        "df_cleaned['POSITIVE SCORE'] = [calculate_positive_score(text, positive_dict) for text in texts]\n"
      ],
      "metadata": {
        "id": "996-PQETZlYk"
      },
      "execution_count": 104,
      "outputs": []
    },
    {
      "cell_type": "code",
      "source": [
        "df_cleaned"
      ],
      "metadata": {
        "colab": {
          "base_uri": "https://localhost:8080/",
          "height": 423
        },
        "id": "bjtfgmPcbfQN",
        "outputId": "58d2504c-3097-41cb-ca6d-5f620f7fc592"
      },
      "execution_count": 105,
      "outputs": [
        {
          "output_type": "execute_result",
          "data": {
            "text/plain": [
              "             URL_ID                                                URL  \\\n",
              "0   blackassign0001  https://insights.blackcoffer.com/rising-it-cit...   \n",
              "1   blackassign0002  https://insights.blackcoffer.com/rising-it-cit...   \n",
              "2   blackassign0003  https://insights.blackcoffer.com/internet-dema...   \n",
              "3   blackassign0004  https://insights.blackcoffer.com/rise-of-cyber...   \n",
              "4   blackassign0005  https://insights.blackcoffer.com/ott-platform-...   \n",
              "..              ...                                                ...   \n",
              "95  blackassign0096  https://insights.blackcoffer.com/what-is-the-r...   \n",
              "96  blackassign0097  https://insights.blackcoffer.com/impact-of-cov...   \n",
              "97  blackassign0098  https://insights.blackcoffer.com/contribution-...   \n",
              "98  blackassign0099  https://insights.blackcoffer.com/how-covid-19-...   \n",
              "99  blackassign0100  https://insights.blackcoffer.com/how-will-covi...   \n",
              "\n",
              "    POSITIVE SCORE  \n",
              "0               44  \n",
              "1               64  \n",
              "2               40  \n",
              "3               39  \n",
              "4               23  \n",
              "..             ...  \n",
              "95              30  \n",
              "96              32  \n",
              "97               7  \n",
              "98              27  \n",
              "99              36  \n",
              "\n",
              "[98 rows x 3 columns]"
            ],
            "text/html": [
              "\n",
              "  <div id=\"df-10fa0490-8e4d-4810-bc43-eccb2fc6dc71\" class=\"colab-df-container\">\n",
              "    <div>\n",
              "<style scoped>\n",
              "    .dataframe tbody tr th:only-of-type {\n",
              "        vertical-align: middle;\n",
              "    }\n",
              "\n",
              "    .dataframe tbody tr th {\n",
              "        vertical-align: top;\n",
              "    }\n",
              "\n",
              "    .dataframe thead th {\n",
              "        text-align: right;\n",
              "    }\n",
              "</style>\n",
              "<table border=\"1\" class=\"dataframe\">\n",
              "  <thead>\n",
              "    <tr style=\"text-align: right;\">\n",
              "      <th></th>\n",
              "      <th>URL_ID</th>\n",
              "      <th>URL</th>\n",
              "      <th>POSITIVE SCORE</th>\n",
              "    </tr>\n",
              "  </thead>\n",
              "  <tbody>\n",
              "    <tr>\n",
              "      <th>0</th>\n",
              "      <td>blackassign0001</td>\n",
              "      <td>https://insights.blackcoffer.com/rising-it-cit...</td>\n",
              "      <td>44</td>\n",
              "    </tr>\n",
              "    <tr>\n",
              "      <th>1</th>\n",
              "      <td>blackassign0002</td>\n",
              "      <td>https://insights.blackcoffer.com/rising-it-cit...</td>\n",
              "      <td>64</td>\n",
              "    </tr>\n",
              "    <tr>\n",
              "      <th>2</th>\n",
              "      <td>blackassign0003</td>\n",
              "      <td>https://insights.blackcoffer.com/internet-dema...</td>\n",
              "      <td>40</td>\n",
              "    </tr>\n",
              "    <tr>\n",
              "      <th>3</th>\n",
              "      <td>blackassign0004</td>\n",
              "      <td>https://insights.blackcoffer.com/rise-of-cyber...</td>\n",
              "      <td>39</td>\n",
              "    </tr>\n",
              "    <tr>\n",
              "      <th>4</th>\n",
              "      <td>blackassign0005</td>\n",
              "      <td>https://insights.blackcoffer.com/ott-platform-...</td>\n",
              "      <td>23</td>\n",
              "    </tr>\n",
              "    <tr>\n",
              "      <th>...</th>\n",
              "      <td>...</td>\n",
              "      <td>...</td>\n",
              "      <td>...</td>\n",
              "    </tr>\n",
              "    <tr>\n",
              "      <th>95</th>\n",
              "      <td>blackassign0096</td>\n",
              "      <td>https://insights.blackcoffer.com/what-is-the-r...</td>\n",
              "      <td>30</td>\n",
              "    </tr>\n",
              "    <tr>\n",
              "      <th>96</th>\n",
              "      <td>blackassign0097</td>\n",
              "      <td>https://insights.blackcoffer.com/impact-of-cov...</td>\n",
              "      <td>32</td>\n",
              "    </tr>\n",
              "    <tr>\n",
              "      <th>97</th>\n",
              "      <td>blackassign0098</td>\n",
              "      <td>https://insights.blackcoffer.com/contribution-...</td>\n",
              "      <td>7</td>\n",
              "    </tr>\n",
              "    <tr>\n",
              "      <th>98</th>\n",
              "      <td>blackassign0099</td>\n",
              "      <td>https://insights.blackcoffer.com/how-covid-19-...</td>\n",
              "      <td>27</td>\n",
              "    </tr>\n",
              "    <tr>\n",
              "      <th>99</th>\n",
              "      <td>blackassign0100</td>\n",
              "      <td>https://insights.blackcoffer.com/how-will-covi...</td>\n",
              "      <td>36</td>\n",
              "    </tr>\n",
              "  </tbody>\n",
              "</table>\n",
              "<p>98 rows × 3 columns</p>\n",
              "</div>\n",
              "    <div class=\"colab-df-buttons\">\n",
              "\n",
              "  <div class=\"colab-df-container\">\n",
              "    <button class=\"colab-df-convert\" onclick=\"convertToInteractive('df-10fa0490-8e4d-4810-bc43-eccb2fc6dc71')\"\n",
              "            title=\"Convert this dataframe to an interactive table.\"\n",
              "            style=\"display:none;\">\n",
              "\n",
              "  <svg xmlns=\"http://www.w3.org/2000/svg\" height=\"24px\" viewBox=\"0 -960 960 960\">\n",
              "    <path d=\"M120-120v-720h720v720H120Zm60-500h600v-160H180v160Zm220 220h160v-160H400v160Zm0 220h160v-160H400v160ZM180-400h160v-160H180v160Zm440 0h160v-160H620v160ZM180-180h160v-160H180v160Zm440 0h160v-160H620v160Z\"/>\n",
              "  </svg>\n",
              "    </button>\n",
              "\n",
              "  <style>\n",
              "    .colab-df-container {\n",
              "      display:flex;\n",
              "      gap: 12px;\n",
              "    }\n",
              "\n",
              "    .colab-df-convert {\n",
              "      background-color: #E8F0FE;\n",
              "      border: none;\n",
              "      border-radius: 50%;\n",
              "      cursor: pointer;\n",
              "      display: none;\n",
              "      fill: #1967D2;\n",
              "      height: 32px;\n",
              "      padding: 0 0 0 0;\n",
              "      width: 32px;\n",
              "    }\n",
              "\n",
              "    .colab-df-convert:hover {\n",
              "      background-color: #E2EBFA;\n",
              "      box-shadow: 0px 1px 2px rgba(60, 64, 67, 0.3), 0px 1px 3px 1px rgba(60, 64, 67, 0.15);\n",
              "      fill: #174EA6;\n",
              "    }\n",
              "\n",
              "    .colab-df-buttons div {\n",
              "      margin-bottom: 4px;\n",
              "    }\n",
              "\n",
              "    [theme=dark] .colab-df-convert {\n",
              "      background-color: #3B4455;\n",
              "      fill: #D2E3FC;\n",
              "    }\n",
              "\n",
              "    [theme=dark] .colab-df-convert:hover {\n",
              "      background-color: #434B5C;\n",
              "      box-shadow: 0px 1px 3px 1px rgba(0, 0, 0, 0.15);\n",
              "      filter: drop-shadow(0px 1px 2px rgba(0, 0, 0, 0.3));\n",
              "      fill: #FFFFFF;\n",
              "    }\n",
              "  </style>\n",
              "\n",
              "    <script>\n",
              "      const buttonEl =\n",
              "        document.querySelector('#df-10fa0490-8e4d-4810-bc43-eccb2fc6dc71 button.colab-df-convert');\n",
              "      buttonEl.style.display =\n",
              "        google.colab.kernel.accessAllowed ? 'block' : 'none';\n",
              "\n",
              "      async function convertToInteractive(key) {\n",
              "        const element = document.querySelector('#df-10fa0490-8e4d-4810-bc43-eccb2fc6dc71');\n",
              "        const dataTable =\n",
              "          await google.colab.kernel.invokeFunction('convertToInteractive',\n",
              "                                                    [key], {});\n",
              "        if (!dataTable) return;\n",
              "\n",
              "        const docLinkHtml = 'Like what you see? Visit the ' +\n",
              "          '<a target=\"_blank\" href=https://colab.research.google.com/notebooks/data_table.ipynb>data table notebook</a>'\n",
              "          + ' to learn more about interactive tables.';\n",
              "        element.innerHTML = '';\n",
              "        dataTable['output_type'] = 'display_data';\n",
              "        await google.colab.output.renderOutput(dataTable, element);\n",
              "        const docLink = document.createElement('div');\n",
              "        docLink.innerHTML = docLinkHtml;\n",
              "        element.appendChild(docLink);\n",
              "      }\n",
              "    </script>\n",
              "  </div>\n",
              "\n",
              "\n",
              "<div id=\"df-e658dca1-a836-4188-99a9-b827d164ff57\">\n",
              "  <button class=\"colab-df-quickchart\" onclick=\"quickchart('df-e658dca1-a836-4188-99a9-b827d164ff57')\"\n",
              "            title=\"Suggest charts\"\n",
              "            style=\"display:none;\">\n",
              "\n",
              "<svg xmlns=\"http://www.w3.org/2000/svg\" height=\"24px\"viewBox=\"0 0 24 24\"\n",
              "     width=\"24px\">\n",
              "    <g>\n",
              "        <path d=\"M19 3H5c-1.1 0-2 .9-2 2v14c0 1.1.9 2 2 2h14c1.1 0 2-.9 2-2V5c0-1.1-.9-2-2-2zM9 17H7v-7h2v7zm4 0h-2V7h2v10zm4 0h-2v-4h2v4z\"/>\n",
              "    </g>\n",
              "</svg>\n",
              "  </button>\n",
              "\n",
              "<style>\n",
              "  .colab-df-quickchart {\n",
              "      --bg-color: #E8F0FE;\n",
              "      --fill-color: #1967D2;\n",
              "      --hover-bg-color: #E2EBFA;\n",
              "      --hover-fill-color: #174EA6;\n",
              "      --disabled-fill-color: #AAA;\n",
              "      --disabled-bg-color: #DDD;\n",
              "  }\n",
              "\n",
              "  [theme=dark] .colab-df-quickchart {\n",
              "      --bg-color: #3B4455;\n",
              "      --fill-color: #D2E3FC;\n",
              "      --hover-bg-color: #434B5C;\n",
              "      --hover-fill-color: #FFFFFF;\n",
              "      --disabled-bg-color: #3B4455;\n",
              "      --disabled-fill-color: #666;\n",
              "  }\n",
              "\n",
              "  .colab-df-quickchart {\n",
              "    background-color: var(--bg-color);\n",
              "    border: none;\n",
              "    border-radius: 50%;\n",
              "    cursor: pointer;\n",
              "    display: none;\n",
              "    fill: var(--fill-color);\n",
              "    height: 32px;\n",
              "    padding: 0;\n",
              "    width: 32px;\n",
              "  }\n",
              "\n",
              "  .colab-df-quickchart:hover {\n",
              "    background-color: var(--hover-bg-color);\n",
              "    box-shadow: 0 1px 2px rgba(60, 64, 67, 0.3), 0 1px 3px 1px rgba(60, 64, 67, 0.15);\n",
              "    fill: var(--button-hover-fill-color);\n",
              "  }\n",
              "\n",
              "  .colab-df-quickchart-complete:disabled,\n",
              "  .colab-df-quickchart-complete:disabled:hover {\n",
              "    background-color: var(--disabled-bg-color);\n",
              "    fill: var(--disabled-fill-color);\n",
              "    box-shadow: none;\n",
              "  }\n",
              "\n",
              "  .colab-df-spinner {\n",
              "    border: 2px solid var(--fill-color);\n",
              "    border-color: transparent;\n",
              "    border-bottom-color: var(--fill-color);\n",
              "    animation:\n",
              "      spin 1s steps(1) infinite;\n",
              "  }\n",
              "\n",
              "  @keyframes spin {\n",
              "    0% {\n",
              "      border-color: transparent;\n",
              "      border-bottom-color: var(--fill-color);\n",
              "      border-left-color: var(--fill-color);\n",
              "    }\n",
              "    20% {\n",
              "      border-color: transparent;\n",
              "      border-left-color: var(--fill-color);\n",
              "      border-top-color: var(--fill-color);\n",
              "    }\n",
              "    30% {\n",
              "      border-color: transparent;\n",
              "      border-left-color: var(--fill-color);\n",
              "      border-top-color: var(--fill-color);\n",
              "      border-right-color: var(--fill-color);\n",
              "    }\n",
              "    40% {\n",
              "      border-color: transparent;\n",
              "      border-right-color: var(--fill-color);\n",
              "      border-top-color: var(--fill-color);\n",
              "    }\n",
              "    60% {\n",
              "      border-color: transparent;\n",
              "      border-right-color: var(--fill-color);\n",
              "    }\n",
              "    80% {\n",
              "      border-color: transparent;\n",
              "      border-right-color: var(--fill-color);\n",
              "      border-bottom-color: var(--fill-color);\n",
              "    }\n",
              "    90% {\n",
              "      border-color: transparent;\n",
              "      border-bottom-color: var(--fill-color);\n",
              "    }\n",
              "  }\n",
              "</style>\n",
              "\n",
              "  <script>\n",
              "    async function quickchart(key) {\n",
              "      const quickchartButtonEl =\n",
              "        document.querySelector('#' + key + ' button');\n",
              "      quickchartButtonEl.disabled = true;  // To prevent multiple clicks.\n",
              "      quickchartButtonEl.classList.add('colab-df-spinner');\n",
              "      try {\n",
              "        const charts = await google.colab.kernel.invokeFunction(\n",
              "            'suggestCharts', [key], {});\n",
              "      } catch (error) {\n",
              "        console.error('Error during call to suggestCharts:', error);\n",
              "      }\n",
              "      quickchartButtonEl.classList.remove('colab-df-spinner');\n",
              "      quickchartButtonEl.classList.add('colab-df-quickchart-complete');\n",
              "    }\n",
              "    (() => {\n",
              "      let quickchartButtonEl =\n",
              "        document.querySelector('#df-e658dca1-a836-4188-99a9-b827d164ff57 button');\n",
              "      quickchartButtonEl.style.display =\n",
              "        google.colab.kernel.accessAllowed ? 'block' : 'none';\n",
              "    })();\n",
              "  </script>\n",
              "</div>\n",
              "    </div>\n",
              "  </div>\n"
            ],
            "application/vnd.google.colaboratory.intrinsic+json": {
              "type": "dataframe",
              "variable_name": "df_cleaned",
              "summary": "{\n  \"name\": \"df_cleaned\",\n  \"rows\": 98,\n  \"fields\": [\n    {\n      \"column\": \"URL_ID\",\n      \"properties\": {\n        \"dtype\": \"string\",\n        \"num_unique_values\": 98,\n        \"samples\": [\n          \"blackassign0065\",\n          \"blackassign0042\",\n          \"blackassign0097\"\n        ],\n        \"semantic_type\": \"\",\n        \"description\": \"\"\n      }\n    },\n    {\n      \"column\": \"URL\",\n      \"properties\": {\n        \"dtype\": \"string\",\n        \"num_unique_values\": 98,\n        \"samples\": [\n          \"https://insights.blackcoffer.com/will-we-ever-colonize-outer-space/\",\n          \"https://insights.blackcoffer.com/how-ai-will-change-the-world-blackcoffer/\",\n          \"https://insights.blackcoffer.com/impact-of-covid-19-pandemic-on-office-space-and-co-working-industries/\"\n        ],\n        \"semantic_type\": \"\",\n        \"description\": \"\"\n      }\n    },\n    {\n      \"column\": \"POSITIVE SCORE\",\n      \"properties\": {\n        \"dtype\": \"number\",\n        \"std\": 23,\n        \"min\": 5,\n        \"max\": 146,\n        \"num_unique_values\": 63,\n        \"samples\": [\n          13,\n          18,\n          44\n        ],\n        \"semantic_type\": \"\",\n        \"description\": \"\"\n      }\n    }\n  ]\n}"
            }
          },
          "metadata": {},
          "execution_count": 105
        }
      ]
    },
    {
      "cell_type": "code",
      "source": [],
      "metadata": {
        "id": "V263kGE-ywxS"
      },
      "execution_count": null,
      "outputs": []
    }
  ]
}